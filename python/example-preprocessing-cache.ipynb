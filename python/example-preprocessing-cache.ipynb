{
 "cells": [
  {
   "cell_type": "markdown",
   "metadata": {},
   "source": [
    "# Ignite ML Preprocessing with Ignite Cache!\n",
    "\n",
    "This document contains example of Ignite ML Preprocessing Python API with Ignite Cache."
   ]
  },
  {
   "cell_type": "code",
   "execution_count": 1,
   "metadata": {
    "collapsed": true
   },
   "outputs": [],
   "source": [
    "from ggml.core import Ignite\n",
    "\n",
    "from sklearn.datasets import make_regression\n",
    "from sklearn.datasets import make_classification\n",
    "from sklearn.datasets import make_blobs\n",
    "from sklearn.model_selection import train_test_split\n",
    "from sklearn.metrics import r2_score\n",
    "from sklearn.metrics import accuracy_score\n",
    "\n",
    "import numpy as np\n",
    "import matplotlib.pyplot as plt\n",
    "%matplotlib inline"
   ]
  },
  {
   "cell_type": "markdown",
   "metadata": {},
   "source": [
    "Lets prepare a classification dataset using scikit-learn."
   ]
  },
  {
   "cell_type": "code",
   "execution_count": 2,
   "metadata": {
    "collapsed": true
   },
   "outputs": [],
   "source": [
    "x, y = make_classification()\n",
    "x_train, x_test, y_train, y_test = train_test_split(x, y)\n",
    "xy_train = np.column_stack((x_train, y_train))"
   ]
  },
  {
   "cell_type": "markdown",
   "metadata": {},
   "source": [
    "### 1.1 Normalization preprocessing"
   ]
  },
  {
   "cell_type": "code",
   "execution_count": 3,
   "metadata": {
    "collapsed": true
   },
   "outputs": [],
   "source": [
    "from ggml.preprocessing import NormalizationTrainer\n",
    "\n",
    "with Ignite(\"/home/gridgain/ignite/examples/config/example-ignite.xml\") as ignite:\n",
    "    train_cache = ignite.create_cache(\"test-preprocessing\")\n",
    "    for i in range(xy_train.shape[0]):\n",
    "        train_cache.put(i, xy_train[i])\n",
    "        \n",
    "    normalizer = NormalizationTrainer().fit_on_cache(train_cache)\n",
    "\n",
    "# Just to test.\n",
    "x_train_normalized = normalizer.transform(x_train)\n",
    "x_test_normalized = normalizer.transform(x_test)"
   ]
  },
  {
   "cell_type": "code",
   "execution_count": 4,
   "metadata": {},
   "outputs": [
    {
     "name": "stdout",
     "output_type": "stream",
     "text": [
      "Without normalization: 0.760000\n",
      "With normalization: 0.800000\n"
     ]
    }
   ],
   "source": [
    "from ggml.classification import DecisionTreeClassificationTrainer\n",
    "trainer = DecisionTreeClassificationTrainer()\n",
    "\n",
    "with Ignite(\"/home/gridgain/ignite/examples/config/example-ignite.xml\") as ignite:\n",
    "    train_cache = ignite.create_cache(\"test-preprocessing\")\n",
    "    for i in range(xy_train.shape[0]):\n",
    "        train_cache.put(i, xy_train[i])\n",
    "        \n",
    "    model_without_normalization = trainer.fit_on_cache(train_cache)\n",
    "    model_with_normalization = trainer.fit_on_cache(train_cache.transform(normalizer))\n",
    "\n",
    "print(\"Without normalization: %f\" % accuracy_score(\n",
    "    y_test, \n",
    "    model_without_normalization.predict(x_test)\n",
    "))\n",
    "print(\"With normalization: %f\" % accuracy_score(\n",
    "    y_test, \n",
    "    model_with_normalization.predict(x_test_normalized)\n",
    "))"
   ]
  },
  {
   "cell_type": "code",
   "execution_count": null,
   "metadata": {
    "collapsed": true
   },
   "outputs": [],
   "source": []
  }
 ],
 "metadata": {
  "kernelspec": {
   "display_name": "Python 3",
   "language": "python",
   "name": "python3"
  },
  "language_info": {
   "codemirror_mode": {
    "name": "ipython",
    "version": 3
   },
   "file_extension": ".py",
   "mimetype": "text/x-python",
   "name": "python",
   "nbconvert_exporter": "python",
   "pygments_lexer": "ipython3",
   "version": "3.6.3"
  }
 },
 "nbformat": 4,
 "nbformat_minor": 2
}
